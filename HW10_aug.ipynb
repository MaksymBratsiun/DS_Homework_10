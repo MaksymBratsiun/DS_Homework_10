{
 "cells": [
  {
   "cell_type": "code",
   "execution_count": 3,
   "id": "422958fe",
   "metadata": {},
   "outputs": [],
   "source": [
    "import math\n",
    "import time\n",
    "\n",
    "from PIL import Image\n",
    "import numpy as np\n",
    "import matplotlib.pyplot as plt\n",
    "import pandas as pd\n",
    "import albumentations as A\n",
    "import cv2\n",
    "import joblib\n",
    "import tensorflow as tf\n",
    "from keras.models import load_model\n",
    "from keras import layers\n",
    "from keras.applications.vgg16 import VGG16\n",
    "from tensorflow.keras.models import Sequential, Model\n",
    "from tensorflow.keras.initializers import RandomNormal\n",
    "from tensorflow.keras.layers import Dense, Dropout\n",
    "from sklearn.model_selection import train_test_split\n",
    "from tensorflow.keras.initializers import RandomNormal\n",
    "from tensorflow.keras.optimizers import AdamW\n",
    "from tensorflow.keras.metrics import CategoricalAccuracy\n",
    "from tensorflow.keras.callbacks import EarlyStopping, ModelCheckpoint"
   ]
  },
  {
   "cell_type": "code",
   "execution_count": 4,
   "id": "8cb6f9b9",
   "metadata": {},
   "outputs": [
    {
     "data": {
      "text/plain": [
       "[LogicalDevice(name='/device:CPU:0', device_type='CPU'),\n",
       " LogicalDevice(name='/device:GPU:0', device_type='GPU')]"
      ]
     },
     "execution_count": 4,
     "metadata": {},
     "output_type": "execute_result"
    }
   ],
   "source": [
    "tf.config.list_logical_devices()"
   ]
  },
  {
   "cell_type": "markdown",
   "id": "29d07a9c",
   "metadata": {},
   "source": [
    "# Завдання\n",
    "\n",
    "Частина 1\n",
    "\n",
    "В якості домашнього завдання вам пропонується створити нейронну мережу за допомогою механізмів Keras, яка буде класифікувати товари із датасету fasion_mnist.\n",
    "\n",
    "На відміну від попереднього завдання вам пропонується створити згорткову нейромережу. Підберіть архітектуру мережі та навчіть її на даних із датасету fasion_mnist. Спробуйте досягти максимально можливої точності класифікації за рахунок маніпуляції параметрами мережі. Порівняйте точність отриманої згорткової мережі з точністю багатошарової мережі з попереднього завдання. Зробіть висновки.\n",
    "\n",
    "Частина 2\n",
    "\n",
    "В цій частині ми знову будемо працювати з датасетом fasion_mnist.\n",
    "\n",
    "На відміну від попереднього завдання вам пропонується створити згорткову нейромережу, що використовує VGG16 в якості згорткової основи.\n",
    "\n",
    "Навчіть отриману мережу на даних із датасету fasion_mnist. Спробуйте досягти максимально можливої точності класифікації за рахунок маніпуляції параметрами мережі. Під час навчання використовуйте прийоми донавчання та виділення ознак.\n",
    "\n",
    "Порівняйте точність отриманої згорткової мережі з точністю багатошарової мережі з попереднього завдання. Зробіть висновки.\n"
   ]
  },
  {
   "cell_type": "code",
   "execution_count": 5,
   "id": "fc2e0b7b",
   "metadata": {},
   "outputs": [],
   "source": [
    "num_classes = 10\n",
    "num_features = 28 * 28\n",
    "\n",
    "learning_rate = 0.001\n",
    "n_epochs = 20\n",
    "batch_size = 512"
   ]
  },
  {
   "cell_type": "code",
   "execution_count": 5,
   "id": "15f9714d",
   "metadata": {},
   "outputs": [],
   "source": [
    "from tensorflow.keras.datasets import fashion_mnist\n",
    "data_set_fashion = fashion_mnist.load_data()"
   ]
  },
  {
   "cell_type": "code",
   "execution_count": 6,
   "id": "4730c24a",
   "metadata": {},
   "outputs": [
    {
     "data": {
      "text/plain": [
       "['data_set_fashion']"
      ]
     },
     "execution_count": 6,
     "metadata": {},
     "output_type": "execute_result"
    }
   ],
   "source": [
    "joblib.dump(data_set_fashion, \"data_set_fashion\")"
   ]
  },
  {
   "cell_type": "code",
   "execution_count": 6,
   "id": "e70a072a",
   "metadata": {},
   "outputs": [],
   "source": [
    "data_set_fashion = joblib.load( \"data_set_fashion\")"
   ]
  },
  {
   "cell_type": "code",
   "execution_count": 7,
   "id": "a94965df",
   "metadata": {},
   "outputs": [],
   "source": [
    "class_to_label = {\n",
    "    0: \"T-shirt/top\",\n",
    "    1: \"Trouser\",\n",
    "    2: \"Pullover\",\n",
    "    3: \"Dress\",\n",
    "    4 :\"Coat\",\n",
    "    5: \"Sandal\",\n",
    "    6 :\"Shirt\",\n",
    "    7: \"Sneaker\",\n",
    "    8: \"Bag\",\n",
    "    9: \"Ankle boot\",\n",
    "}"
   ]
  },
  {
   "cell_type": "code",
   "execution_count": 7,
   "id": "d7645676",
   "metadata": {},
   "outputs": [],
   "source": [
    "(x_train_all, y_train_all), (x_test, y_test) = data_set_fashion\n",
    "x_train_all, x_test = np.array(x_train_all, np.float32), np.array(x_test, np.float32)\n",
    "x_train_all, x_test = x_train_all / 255., x_test / 255.\n"
   ]
  },
  {
   "cell_type": "code",
   "execution_count": 8,
   "id": "551ea894",
   "metadata": {},
   "outputs": [
    {
     "data": {
      "text/plain": [
       "'Sneaker'"
      ]
     },
     "execution_count": 8,
     "metadata": {},
     "output_type": "execute_result"
    },
    {
     "data": {
      "image/png": "[encoded data removed]",
      "text/plain": [
       "<Figure size 640x480 with 1 Axes>"
      ]
     },
     "metadata": {},
     "output_type": "display_data"
    }
   ],
   "source": [
    "i_sample = 10001\n",
    "plt.imshow(x_train_all[i_sample], cmap=\"gray\")\n",
    "class_to_label[y_train_all[i_sample]]"
   ]
  },
  {
   "cell_type": "code",
   "execution_count": 2,
   "id": "0529d76e",
   "metadata": {},
   "outputs": [
    {
     "ename": "NameError",
     "evalue": "name 'x_train_all' is not defined",
     "output_type": "error",
     "traceback": [
      "\u001b[0;31m---------------------------------------------------------------------------\u001b[0m",
      "\u001b[0;31mNameError\u001b[0m                                 Traceback (most recent call last)",
      "Cell \u001b[0;32mIn[2], line 1\u001b[0m\n\u001b[0;32m----> 1\u001b[0m x_train, x_valid, y_train, y_valid \u001b[38;5;241m=\u001b[39m train_test_split(\u001b[43mx_train_all\u001b[49m, y_train_all, test_size\u001b[38;5;241m=\u001b[39m\u001b[38;5;241m0.2\u001b[39m, shuffle\u001b[38;5;241m=\u001b[39m\u001b[38;5;28;01mTrue\u001b[39;00m)\n",
      "\u001b[0;31mNameError\u001b[0m: name 'x_train_all' is not defined"
     ]
    }
   ],
   "source": [
    "x_train, x_valid, y_train, y_valid = train_test_split(x_train_all, y_train_all, test_size=0.2, shuffle=True)"
   ]
  },
  {
   "cell_type": "code",
   "execution_count": 14,
   "id": "6fbb16aa",
   "metadata": {},
   "outputs": [
    {
     "data": {
      "text/plain": [
       "((48000, 28, 28), (12000, 28, 28))"
      ]
     },
     "execution_count": 14,
     "metadata": {},
     "output_type": "execute_result"
    }
   ],
   "source": [
    "x_train.shape , x_valid.shape"
   ]
  },
  {
   "cell_type": "code",
   "execution_count": 13,
   "id": "911fb047",
   "metadata": {},
   "outputs": [],
   "source": [
    "class Dataset(tf.keras.utils.Sequence):\n",
    "    def __init__(self, x, y, shuffle=True, batch_size=256, transforms=None):\n",
    "        self.x = x\n",
    "        self.y = y\n",
    "        self.shuffle = shuffle\n",
    "        self.indexes = np.arange(len(self.x))\n",
    "        self.batch_size = batch_size\n",
    "        self.transforms = transforms\n",
    "\n",
    "        if shuffle:\n",
    "            self.on_epoch_end()\n",
    "\n",
    "    def __len__(self):\n",
    "        return math.ceil(len(self.x) / self.batch_size)\n",
    "\n",
    "    def __getitem__(self, idx):\n",
    "        indexes = self.indexes[idx * self.batch_size : (idx + 1) * self.batch_size]\n",
    "        # batch_x = [self.x[i].reshape(num_features) for i in indexes]\n",
    "        batch_x = [self.x[i] for i in indexes]\n",
    "        batch_y = [tf.keras.utils.to_categorical(self.y[i], num_classes) for i in indexes]\n",
    "\n",
    "\n",
    "        return np.array(batch_x), np.array(batch_y)\n",
    "\n",
    "    def on_epoch_end(self):\n",
    "        if self.shuffle:\n",
    "            np.random.shuffle(self.indexes)"
   ]
  },
  {
   "cell_type": "code",
   "execution_count": 7,
   "id": "8698e31a",
   "metadata": {},
   "outputs": [],
   "source": [
    "callback_early_stopping = EarlyStopping(\n",
    "    monitor=\"val_loss\",\n",
    "    patience=4,\n",
    "    verbose=1\n",
    ")\n",
    "\n",
    "\n",
    "callback_save = ModelCheckpoint(\n",
    "    \"best_conv.hdf5\",\n",
    "    monitor=\"val_loss\",\n",
    "    save_best_only=True,\n",
    "    verbose=1\n",
    ")"
   ]
  },
  {
   "cell_type": "code",
   "execution_count": 15,
   "id": "0548933b",
   "metadata": {},
   "outputs": [],
   "source": [
    "train_dataset = Dataset(x_train, y_train, shuffle=True, batch_size=batch_size)\n",
    "valid_dataset = Dataset(x_valid, y_valid, shuffle=False, batch_size=batch_size)\n"
   ]
  },
  {
   "cell_type": "code",
   "execution_count": 16,
   "id": "9227870e",
   "metadata": {},
   "outputs": [],
   "source": [
    "model = Sequential([\n",
    "    layers.Conv2D(64, (3, 3), activation=\"relu\", input_shape=(28, 28, 1)),\n",
    "    layers.MaxPooling2D((2, 2)),\n",
    "\n",
    "    layers.Conv2D(128, (3, 3), activation=\"relu\"),\n",
    "    layers.MaxPooling2D((2, 2)),\n",
    "\n",
    "    layers.Conv2D(128, (3, 3), activation=\"relu\"),\n",
    "\n",
    "    layers.Flatten(),\n",
    "    layers.Dense(128, activation=\"relu\"),\n",
    "\n",
    "    layers.Dense(10, activation=\"softmax\")\n",
    "])"
   ]
  },
  {
   "cell_type": "code",
   "execution_count": 17,
   "id": "46bd2d69",
   "metadata": {},
   "outputs": [],
   "source": [
    "model.compile(\n",
    "    optimizer=\"rmsprop\",\n",
    "    loss=\"categorical_crossentropy\",\n",
    "    metrics=[CategoricalAccuracy()],\n",
    ")"
   ]
  },
  {
   "cell_type": "code",
   "execution_count": 19,
   "id": "be88985f",
   "metadata": {
    "scrolled": false
   },
   "outputs": [
    {
     "name": "stdout",
     "output_type": "stream",
     "text": [
      "Epoch 1/30\n"
     ]
    },
    {
     "name": "stderr",
     "output_type": "stream",
     "text": [
      "2023-08-15 08:14:17.167346: I tensorflow/compiler/xla/stream_executor/cuda/cuda_dnn.cc:432] Loaded cuDNN version 8600\n",
      "2023-08-15 08:14:19.865532: I tensorflow/compiler/xla/service/service.cc:168] XLA service 0x7fd82402b1d0 initialized for platform CUDA (this does not guarantee that XLA will be used). Devices:\n",
      "2023-08-15 08:14:19.865590: I tensorflow/compiler/xla/service/service.cc:176]   StreamExecutor device (0): NVIDIA GeForce GTX 1660, Compute Capability 7.5\n",
      "2023-08-15 08:14:19.969977: I tensorflow/compiler/mlir/tensorflow/utils/dump_mlir_util.cc:255] disabling MLIR crash reproducer, set env var `MLIR_CRASH_REPRODUCER_DIRECTORY` to enable.\n",
      "2023-08-15 08:14:20.473309: I ./tensorflow/compiler/jit/device_compiler.h:186] Compiled cluster using XLA!  This line is logged at most once for the lifetime of the process.\n"
     ]
    },
    {
     "name": "stdout",
     "output_type": "stream",
     "text": [
      "93/94 [============================>.] - ETA: 0s - loss: 0.9761 - categorical_accuracy: 0.6390\n",
      "Epoch 1: val_loss improved from inf to 0.62668, saving model to best_conv.hdf5\n",
      "94/94 [==============================] - 12s 37ms/step - loss: 0.9721 - categorical_accuracy: 0.6405 - val_loss: 0.6267 - val_categorical_accuracy: 0.7732\n",
      "Epoch 2/30\n",
      " 5/94 [>.............................] - ETA: 2s - loss: 0.6019 - categorical_accuracy: 0.7793"
     ]
    },
    {
     "name": "stderr",
     "output_type": "stream",
     "text": [
      "/usr/local/lib/python3.8/dist-packages/keras/src/engine/training.py:3000: UserWarning: You are saving your model as an HDF5 file via `model.save()`. This file format is considered legacy. We recommend using instead the native Keras format, e.g. `model.save('my_model.keras')`.\n",
      "  saving_api.save_model(\n"
     ]
    },
    {
     "name": "stdout",
     "output_type": "stream",
     "text": [
      "94/94 [==============================] - ETA: 0s - loss: 0.5168 - categorical_accuracy: 0.8075\n",
      "Epoch 2: val_loss improved from 0.62668 to 0.48369, saving model to best_conv.hdf5\n",
      "94/94 [==============================] - 3s 28ms/step - loss: 0.5168 - categorical_accuracy: 0.8075 - val_loss: 0.4837 - val_categorical_accuracy: 0.8238\n",
      "Epoch 3/30\n",
      "94/94 [==============================] - ETA: 0s - loss: 0.4193 - categorical_accuracy: 0.8454\n",
      "Epoch 3: val_loss improved from 0.48369 to 0.36998, saving model to best_conv.hdf5\n",
      "94/94 [==============================] - 3s 29ms/step - loss: 0.4193 - categorical_accuracy: 0.8454 - val_loss: 0.3700 - val_categorical_accuracy: 0.8689\n",
      "Epoch 4/30\n",
      "93/94 [============================>.] - ETA: 0s - loss: 0.3605 - categorical_accuracy: 0.8666\n",
      "Epoch 4: val_loss improved from 0.36998 to 0.36401, saving model to best_conv.hdf5\n",
      "94/94 [==============================] - 3s 28ms/step - loss: 0.3608 - categorical_accuracy: 0.8665 - val_loss: 0.3640 - val_categorical_accuracy: 0.8692\n",
      "Epoch 5/30\n",
      "93/94 [============================>.] - ETA: 0s - loss: 0.3248 - categorical_accuracy: 0.8793\n",
      "Epoch 5: val_loss improved from 0.36401 to 0.31807, saving model to best_conv.hdf5\n",
      "94/94 [==============================] - 3s 28ms/step - loss: 0.3240 - categorical_accuracy: 0.8797 - val_loss: 0.3181 - val_categorical_accuracy: 0.8863\n",
      "Epoch 6/30\n",
      "93/94 [============================>.] - ETA: 0s - loss: 0.2971 - categorical_accuracy: 0.8905\n",
      "Epoch 6: val_loss did not improve from 0.31807\n",
      "94/94 [==============================] - 3s 28ms/step - loss: 0.2970 - categorical_accuracy: 0.8905 - val_loss: 0.3254 - val_categorical_accuracy: 0.8784\n",
      "Epoch 7/30\n",
      "92/94 [============================>.] - ETA: 0s - loss: 0.2775 - categorical_accuracy: 0.8982\n",
      "Epoch 7: val_loss improved from 0.31807 to 0.29719, saving model to best_conv.hdf5\n",
      "94/94 [==============================] - 3s 29ms/step - loss: 0.2771 - categorical_accuracy: 0.8983 - val_loss: 0.2972 - val_categorical_accuracy: 0.8907\n",
      "Epoch 8/30\n",
      "94/94 [==============================] - ETA: 0s - loss: 0.2601 - categorical_accuracy: 0.9030\n",
      "Epoch 8: val_loss improved from 0.29719 to 0.28853, saving model to best_conv.hdf5\n",
      "94/94 [==============================] - 3s 28ms/step - loss: 0.2601 - categorical_accuracy: 0.9030 - val_loss: 0.2885 - val_categorical_accuracy: 0.8943\n",
      "Epoch 9/30\n",
      "92/94 [============================>.] - ETA: 0s - loss: 0.2431 - categorical_accuracy: 0.9090\n",
      "Epoch 9: val_loss did not improve from 0.28853\n",
      "94/94 [==============================] - 3s 28ms/step - loss: 0.2438 - categorical_accuracy: 0.9089 - val_loss: 0.2922 - val_categorical_accuracy: 0.8919\n",
      "Epoch 10/30\n",
      "93/94 [============================>.] - ETA: 0s - loss: 0.2293 - categorical_accuracy: 0.9140\n",
      "Epoch 10: val_loss improved from 0.28853 to 0.28535, saving model to best_conv.hdf5\n",
      "94/94 [==============================] - 3s 28ms/step - loss: 0.2291 - categorical_accuracy: 0.9141 - val_loss: 0.2854 - val_categorical_accuracy: 0.8978\n",
      "Epoch 11/30\n",
      "93/94 [============================>.] - ETA: 0s - loss: 0.2166 - categorical_accuracy: 0.9195\n",
      "Epoch 11: val_loss improved from 0.28535 to 0.27312, saving model to best_conv.hdf5\n",
      "94/94 [==============================] - 3s 28ms/step - loss: 0.2166 - categorical_accuracy: 0.9196 - val_loss: 0.2731 - val_categorical_accuracy: 0.8999\n",
      "Epoch 12/30\n",
      "94/94 [==============================] - ETA: 0s - loss: 0.2020 - categorical_accuracy: 0.9246\n",
      "Epoch 12: val_loss improved from 0.27312 to 0.26201, saving model to best_conv.hdf5\n",
      "94/94 [==============================] - 3s 29ms/step - loss: 0.2020 - categorical_accuracy: 0.9246 - val_loss: 0.2620 - val_categorical_accuracy: 0.9046\n",
      "Epoch 13/30\n",
      "94/94 [==============================] - ETA: 0s - loss: 0.1906 - categorical_accuracy: 0.9285\n",
      "Epoch 13: val_loss improved from 0.26201 to 0.25667, saving model to best_conv.hdf5\n",
      "94/94 [==============================] - 3s 29ms/step - loss: 0.1906 - categorical_accuracy: 0.9285 - val_loss: 0.2567 - val_categorical_accuracy: 0.9048\n",
      "Epoch 14/30\n",
      "93/94 [============================>.] - ETA: 0s - loss: 0.1807 - categorical_accuracy: 0.9328\n",
      "Epoch 14: val_loss did not improve from 0.25667\n",
      "94/94 [==============================] - 3s 28ms/step - loss: 0.1805 - categorical_accuracy: 0.9327 - val_loss: 0.2659 - val_categorical_accuracy: 0.9031\n",
      "Epoch 15/30\n",
      "94/94 [==============================] - ETA: 0s - loss: 0.1670 - categorical_accuracy: 0.9384\n",
      "Epoch 15: val_loss improved from 0.25667 to 0.25610, saving model to best_conv.hdf5\n",
      "94/94 [==============================] - 3s 27ms/step - loss: 0.1670 - categorical_accuracy: 0.9384 - val_loss: 0.2561 - val_categorical_accuracy: 0.9082\n",
      "Epoch 16/30\n",
      "93/94 [============================>.] - ETA: 0s - loss: 0.1573 - categorical_accuracy: 0.9420\n",
      "Epoch 16: val_loss did not improve from 0.25610\n",
      "94/94 [==============================] - 3s 27ms/step - loss: 0.1572 - categorical_accuracy: 0.9421 - val_loss: 0.2810 - val_categorical_accuracy: 0.9060\n",
      "Epoch 17/30\n",
      "93/94 [============================>.] - ETA: 0s - loss: 0.1468 - categorical_accuracy: 0.9456\n",
      "Epoch 17: val_loss did not improve from 0.25610\n",
      "94/94 [==============================] - 3s 28ms/step - loss: 0.1471 - categorical_accuracy: 0.9454 - val_loss: 0.2961 - val_categorical_accuracy: 0.8989\n",
      "Epoch 18/30\n",
      "93/94 [============================>.] - ETA: 0s - loss: 0.1376 - categorical_accuracy: 0.9494\n",
      "Epoch 18: val_loss did not improve from 0.25610\n",
      "94/94 [==============================] - 3s 28ms/step - loss: 0.1376 - categorical_accuracy: 0.9492 - val_loss: 0.2852 - val_categorical_accuracy: 0.9042\n",
      "Epoch 19/30\n",
      "93/94 [============================>.] - ETA: 0s - loss: 0.1282 - categorical_accuracy: 0.9523\n",
      "Epoch 19: val_loss did not improve from 0.25610\n",
      "94/94 [==============================] - 3s 28ms/step - loss: 0.1278 - categorical_accuracy: 0.9524 - val_loss: 0.2750 - val_categorical_accuracy: 0.9088\n",
      "Epoch 19: early stopping\n"
     ]
    }
   ],
   "source": [
    "history = model.fit(\n",
    "    train_dataset,\n",
    "    validation_data=valid_dataset,\n",
    "    epochs=n_epochs,\n",
    "    verbose=1,\n",
    "    callbacks=[callback_save, callback_early_stopping]\n",
    ")"
   ]
  },
  {
   "cell_type": "code",
   "execution_count": 21,
   "id": "805766d8",
   "metadata": {},
   "outputs": [
    {
     "name": "stderr",
     "output_type": "stream",
     "text": [
      "2023-08-15 08:17:25.755658: W tensorflow/tsl/framework/bfc_allocator.cc:296] Allocator (GPU_0_bfc) ran out of memory trying to allocate 1.63GiB with freed_by_count=0. The caller indicates that this is not a failure, but this may mean that there could be performance gains if more memory were available.\n",
      "2023-08-15 08:17:25.755719: W tensorflow/core/kernels/gpu_utils.cc:50] Failed to allocate memory for convolution redzone checking; skipping this check. This is benign and only means that we won't check cudnn for out-of-bounds reads and writes. This message will only be printed once.\n",
      "2023-08-15 08:17:26.397107: W tensorflow/tsl/framework/bfc_allocator.cc:296] Allocator (GPU_0_bfc) ran out of memory trying to allocate 4.29GiB with freed_by_count=0. The caller indicates that this is not a failure, but this may mean that there could be performance gains if more memory were available.\n",
      "2023-08-15 08:17:26.397199: W tensorflow/tsl/framework/bfc_allocator.cc:296] Allocator (GPU_0_bfc) ran out of memory trying to allocate 5.20GiB with freed_by_count=0. The caller indicates that this is not a failure, but this may mean that there could be performance gains if more memory were available.\n",
      "2023-08-15 08:17:26.397228: W tensorflow/tsl/framework/bfc_allocator.cc:296] Allocator (GPU_0_bfc) ran out of memory trying to allocate 2.65GiB with freed_by_count=0. The caller indicates that this is not a failure, but this may mean that there could be performance gains if more memory were available.\n",
      "2023-08-15 08:17:26.405968: W tensorflow/tsl/framework/bfc_allocator.cc:296] Allocator (GPU_0_bfc) ran out of memory trying to allocate 2.33GiB with freed_by_count=0. The caller indicates that this is not a failure, but this may mean that there could be performance gains if more memory were available.\n",
      "2023-08-15 08:17:26.679033: W tensorflow/tsl/framework/bfc_allocator.cc:296] Allocator (GPU_0_bfc) ran out of memory trying to allocate 2.76GiB with freed_by_count=0. The caller indicates that this is not a failure, but this may mean that there could be performance gains if more memory were available.\n",
      "2023-08-15 08:17:27.130702: W tensorflow/tsl/framework/bfc_allocator.cc:296] Allocator (GPU_0_bfc) ran out of memory trying to allocate 7.83GiB with freed_by_count=0. The caller indicates that this is not a failure, but this may mean that there could be performance gains if more memory were available.\n",
      "2023-08-15 08:17:27.443265: W tensorflow/tsl/framework/bfc_allocator.cc:296] Allocator (GPU_0_bfc) ran out of memory trying to allocate 2.61GiB with freed_by_count=0. The caller indicates that this is not a failure, but this may mean that there could be performance gains if more memory were available.\n"
     ]
    },
    {
     "name": "stdout",
     "output_type": "stream",
     "text": [
      "Accuracy test data: 0.9101\n"
     ]
    }
   ],
   "source": [
    "# best_model = tf.keras.saving.load_model(\"best_conv.hdf5\")\n",
    "# test_out = best_model(x_test).numpy()\n",
    "test_out = model(x_test).numpy()\n",
    "accuracy_test = np.mean(test_out.argmax(axis=1) == y_test)\n",
    "print(f\"Accuracy test data: {accuracy_test.round(4)}\" )"
   ]
  },
  {
   "cell_type": "code",
   "execution_count": 22,
   "id": "e6c7e8e2",
   "metadata": {},
   "outputs": [
    {
     "data": {
      "image/png": "[encoded data removed]",
      "text/plain": [
       "<Figure size 640x480 with 1 Axes>"
      ]
     },
     "metadata": {},
     "output_type": "display_data"
    }
   ],
   "source": [
    "plt.plot(history.history[\"loss\"], label=\"train loss\")\n",
    "plt.plot(history.history[\"val_loss\"], label=\"valid loss\")\n",
    "plt.legend()\n",
    "plt.grid()"
   ]
  },
  {
   "cell_type": "code",
   "execution_count": 23,
   "id": "fd904cf0",
   "metadata": {},
   "outputs": [
    {
     "data": {
      "image/png": "[encoded data removed]",
      "text/plain": [
       "<Figure size 640x480 with 1 Axes>"
      ]
     },
     "metadata": {},
     "output_type": "display_data"
    }
   ],
   "source": [
    "plt.plot(history.history[\"categorical_accuracy\"], label=\"train accuracy\")\n",
    "plt.plot(history.history[\"val_categorical_accuracy\"], label=\"valid accuracy\")\n",
    "plt.legend()\n",
    "plt.grid()"
   ]
  },
  {
   "cell_type": "code",
   "execution_count": 24,
   "id": "7592f620",
   "metadata": {},
   "outputs": [
    {
     "name": "stdout",
     "output_type": "stream",
     "text": [
      "Model: \"sequential\"\n",
      "_________________________________________________________________\n",
      " Layer (type)                Output Shape              Param #   \n",
      "=================================================================\n",
      " conv2d (Conv2D)             (None, 26, 26, 64)        640       \n",
      "                                                                 \n",
      " max_pooling2d (MaxPooling2  (None, 13, 13, 64)        0         \n",
      " D)                                                              \n",
      "                                                                 \n",
      " conv2d_1 (Conv2D)           (None, 11, 11, 128)       73856     \n",
      "                                                                 \n",
      " max_pooling2d_1 (MaxPoolin  (None, 5, 5, 128)         0         \n",
      " g2D)                                                            \n",
      "                                                                 \n",
      " conv2d_2 (Conv2D)           (None, 3, 3, 128)         147584    \n",
      "                                                                 \n",
      " flatten (Flatten)           (None, 1152)              0         \n",
      "                                                                 \n",
      " dense (Dense)               (None, 128)               147584    \n",
      "                                                                 \n",
      " dense_1 (Dense)             (None, 10)                1290      \n",
      "                                                                 \n",
      "=================================================================\n",
      "Total params: 370954 (1.42 MB)\n",
      "Trainable params: 370954 (1.42 MB)\n",
      "Non-trainable params: 0 (0.00 Byte)\n",
      "_________________________________________________________________\n"
     ]
    }
   ],
   "source": [
    "model.summary()"
   ]
  },
  {
   "cell_type": "code",
   "execution_count": 8,
   "id": "730e730c",
   "metadata": {},
   "outputs": [],
   "source": [
    "#Create dataset with VGG16 standart - 224x224x3\n",
    "(x_train_all, y_train_all), (x_test_vgg, y_test_vgg) = data_set_fashion"
   ]
  },
  {
   "cell_type": "code",
   "execution_count": 9,
   "id": "275f4866",
   "metadata": {},
   "outputs": [],
   "source": [
    "x_train_vgg, x_valid_vgg, y_train_vgg, y_valid_vgg = train_test_split(x_train_all, y_train_all, test_size=0.2, shuffle=True)"
   ]
  },
  {
   "cell_type": "code",
   "execution_count": 10,
   "id": "32266ef2",
   "metadata": {},
   "outputs": [
    {
     "name": "stdout",
     "output_type": "stream",
     "text": [
      "Trouser (28, 28)\n"
     ]
    },
    {
     "data": {
      "image/png": "[encoded data removed]",
      "text/plain": [
       "<Figure size 640x480 with 1 Axes>"
      ]
     },
     "metadata": {},
     "output_type": "display_data"
    }
   ],
   "source": [
    "i_sample = 100\n",
    "plt.imshow(x_train_vgg[i_sample], cmap=\"gray\")\n",
    "x_train_vgg\n",
    "print(class_to_label[y_train_vgg[i_sample]], x_train_vgg[i_sample].shape)\n"
   ]
  },
  {
   "cell_type": "code",
   "execution_count": 11,
   "id": "dc525669",
   "metadata": {},
   "outputs": [],
   "source": [
    "class Dataset_vgg16(tf.keras.utils.Sequence):\n",
    "    def __init__(self, x, y, shuffle=True, batch_size=256, transforms=None):\n",
    "        self.x = x\n",
    "        self.y = y\n",
    "        self.shuffle = shuffle\n",
    "        self.indexes = np.arange(len(self.x))\n",
    "        self.batch_size = batch_size\n",
    "        self.transforms = transforms\n",
    "\n",
    "        if shuffle:\n",
    "            self.on_epoch_end()\n",
    "\n",
    "    def __len__(self):\n",
    "        return math.ceil(len(self.x) / self.batch_size)\n",
    "\n",
    "    def __getitem__(self, idx):\n",
    "        indexes = self.indexes[idx * self.batch_size : (idx + 1) * self.batch_size]\n",
    "        batch_y = [tf.keras.utils.to_categorical(self.y[i], num_classes) for i in indexes]\n",
    "        batch_X = []\n",
    "        for i in indexes:\n",
    "            img = np.asarray(Image.fromarray(np.uint8(self.x[i])).convert('RGB'))\n",
    "            if self.transforms:\n",
    "                img = self.transforms(image=img)[\"image\"]\n",
    "            \n",
    "            batch_X.append(img)\n",
    "\n",
    "        return np.array(batch_X) / 255., np.array(batch_y)\n",
    "\n",
    "    def on_epoch_end(self):\n",
    "        if self.shuffle:\n",
    "            np.random.shuffle(self.indexes)"
   ]
  },
  {
   "cell_type": "code",
   "execution_count": 12,
   "id": "013aa452",
   "metadata": {},
   "outputs": [],
   "source": [
    "train_transforms = A.Compose(\n",
    "    [\n",
    "        A.HorizontalFlip(p=0.5),\n",
    "        A.Rotate(limit=30, p=0.5),\n",
    "        A.Resize(224, 224, p=1.),\n",
    "    ]\n",
    ")\n",
    "\n",
    "valid_transforms = A.Compose(\n",
    "    [\n",
    "        A.Resize(224, 224, p=1.),\n",
    "    ]\n",
    ")\n",
    "test_transforms = A.Compose(\n",
    "    [\n",
    "        A.Resize(224, 224, p=1.),\n",
    "    ]\n",
    ")"
   ]
  },
  {
   "cell_type": "code",
   "execution_count": 21,
   "id": "ce58b4cb",
   "metadata": {},
   "outputs": [],
   "source": [
    "train_dataset = Dataset_vgg16(x_train_vgg, y_train_vgg, shuffle=True, batch_size=128, transforms=train_transforms)\n",
    "valid_dataset = Dataset_vgg16(x_valid_vgg, y_valid_vgg, shuffle=False, batch_size=128, transforms=valid_transforms)\n",
    "test_dataset = Dataset_vgg16(x_test_vgg, y_test_vgg, shuffle=False, batch_size=16, transforms=valid_transforms)"
   ]
  },
  {
   "cell_type": "code",
   "execution_count": 39,
   "id": "fd6237a6",
   "metadata": {},
   "outputs": [],
   "source": [
    "conv_base = VGG16(weights=\"imagenet\", include_top=False, input_shape=(224, 224, 3))\n",
    "conv_base.trainable = False\n",
    "\n",
    "model_vgg = Sequential([\n",
    "   conv_base,\n",
    "   layers.Flatten(),\n",
    "   layers.Dense(512, activation=\"relu\"),\n",
    "   layers.Dense(10, activation=\"softmax\"),\n",
    "])\n",
    "\n",
    "model_vgg.compile(\n",
    "    loss=\"categorical_crossentropy\",\n",
    "    optimizer=tf.keras.optimizers.RMSprop(learning_rate=2e-5),\n",
    "    metrics=[CategoricalAccuracy()]\n",
    ")"
   ]
  },
  {
   "cell_type": "code",
   "execution_count": 14,
   "id": "a03982af",
   "metadata": {},
   "outputs": [
    {
     "data": {
      "text/plain": [
       "((16, 224, 224, 3), (16, 10))"
      ]
     },
     "execution_count": 14,
     "metadata": {},
     "output_type": "execute_result"
    }
   ],
   "source": [
    "X, y = test_dataset[0]\n",
    "X.shape, y.shape"
   ]
  },
  {
   "cell_type": "code",
   "execution_count": 40,
   "id": "ea8960d8",
   "metadata": {},
   "outputs": [
    {
     "name": "stdout",
     "output_type": "stream",
     "text": [
      "Model: \"sequential\"\n",
      "_________________________________________________________________\n",
      " Layer (type)                Output Shape              Param #   \n",
      "=================================================================\n",
      " vgg16 (Functional)          (None, 7, 7, 512)         14714688  \n",
      "                                                                 \n",
      " flatten (Flatten)           (None, 25088)             0         \n",
      "                                                                 \n",
      " dense (Dense)               (None, 512)               12845568  \n",
      "                                                                 \n",
      " dense_1 (Dense)             (None, 10)                5130      \n",
      "                                                                 \n",
      "=================================================================\n",
      "Total params: 27565386 (105.15 MB)\n",
      "Trainable params: 12850698 (49.02 MB)\n",
      "Non-trainable params: 14714688 (56.13 MB)\n",
      "_________________________________________________________________\n"
     ]
    }
   ],
   "source": [
    "model_vgg.summary()\n"
   ]
  },
  {
   "cell_type": "code",
   "execution_count": 16,
   "id": "5bdbed78",
   "metadata": {},
   "outputs": [],
   "source": [
    "callback_early_stopping = EarlyStopping(\n",
    "    monitor=\"val_categorical_accuracy\",\n",
    "    patience=2,\n",
    "    verbose=1,\n",
    "    mode=\"max\"\n",
    ")\n",
    "\n",
    "\n",
    "callback_save = ModelCheckpoint(\n",
    "    \"best_vgg16.hdf5\",\n",
    "    monitor=\"val_loss\",\n",
    "    save_best_only=True,\n",
    "    verbose=1\n",
    ")"
   ]
  },
  {
   "cell_type": "code",
   "execution_count": 59,
   "id": "a797e7cd",
   "metadata": {},
   "outputs": [
    {
     "name": "stdout",
     "output_type": "stream",
     "text": [
      "Epoch 1/20\n"
     ]
    },
    {
     "name": "stderr",
     "output_type": "stream",
     "text": [
      "2023-08-16 11:08:05.208340: W tensorflow/tsl/framework/bfc_allocator.cc:296] Allocator (GPU_0_bfc) ran out of memory trying to allocate 677.50MiB with freed_by_count=0. The caller indicates that this is not a failure, but this may mean that there could be performance gains if more memory were available.\n",
      "2023-08-16 11:08:05.407992: W tensorflow/tsl/framework/bfc_allocator.cc:296] Allocator (GPU_0_bfc) ran out of memory trying to allocate 677.50MiB with freed_by_count=0. The caller indicates that this is not a failure, but this may mean that there could be performance gains if more memory were available.\n",
      "2023-08-16 11:08:05.408068: W tensorflow/tsl/framework/bfc_allocator.cc:296] Allocator (GPU_0_bfc) ran out of memory trying to allocate 3.62GiB with freed_by_count=0. The caller indicates that this is not a failure, but this may mean that there could be performance gains if more memory were available.\n",
      "2023-08-16 11:08:05.467628: W tensorflow/tsl/framework/bfc_allocator.cc:296] Allocator (GPU_0_bfc) ran out of memory trying to allocate 1.55GiB with freed_by_count=0. The caller indicates that this is not a failure, but this may mean that there could be performance gains if more memory were available.\n",
      "2023-08-16 11:08:05.467686: W tensorflow/core/kernels/gpu_utils.cc:50] Failed to allocate memory for convolution redzone checking; skipping this check. This is benign and only means that we won't check cudnn for out-of-bounds reads and writes. This message will only be printed once.\n"
     ]
    },
    {
     "name": "stdout",
     "output_type": "stream",
     "text": [
      "375/375 [==============================] - ETA: 0s - loss: 0.7593 - categorical_accuracy: 0.7639\n",
      "Epoch 1: val_loss improved from inf to 0.42302, saving model to best_vgg16.hdf5\n"
     ]
    },
    {
     "name": "stderr",
     "output_type": "stream",
     "text": [
      "/usr/local/lib/python3.8/dist-packages/keras/src/engine/training.py:3000: UserWarning: You are saving your model as an HDF5 file via `model.save()`. This file format is considered legacy. We recommend using instead the native Keras format, e.g. `model.save('my_model.keras')`.\n",
      "  saving_api.save_model(\n"
     ]
    },
    {
     "name": "stdout",
     "output_type": "stream",
     "text": [
      "375/375 [==============================] - 321s 806ms/step - loss: 0.7593 - categorical_accuracy: 0.7639 - val_loss: 0.4230 - val_categorical_accuracy: 0.8525\n",
      "Epoch 2/20\n",
      "375/375 [==============================] - ETA: 0s - loss: 0.4731 - categorical_accuracy: 0.8362\n",
      "Epoch 2: val_loss improved from 0.42302 to 0.35839, saving model to best_vgg16.hdf5\n",
      "375/375 [==============================] - 293s 781ms/step - loss: 0.4731 - categorical_accuracy: 0.8362 - val_loss: 0.3584 - val_categorical_accuracy: 0.8723\n",
      "Epoch 3/20\n",
      "375/375 [==============================] - ETA: 0s - loss: 0.4220 - categorical_accuracy: 0.8543\n",
      "Epoch 3: val_loss improved from 0.35839 to 0.34477, saving model to best_vgg16.hdf5\n",
      "375/375 [==============================] - 265s 707ms/step - loss: 0.4220 - categorical_accuracy: 0.8543 - val_loss: 0.3448 - val_categorical_accuracy: 0.8774\n",
      "Epoch 4/20\n",
      "375/375 [==============================] - ETA: 0s - loss: 0.3915 - categorical_accuracy: 0.8613\n",
      "Epoch 4: val_loss improved from 0.34477 to 0.33458, saving model to best_vgg16.hdf5\n",
      "375/375 [==============================] - 263s 701ms/step - loss: 0.3915 - categorical_accuracy: 0.8613 - val_loss: 0.3346 - val_categorical_accuracy: 0.8789\n",
      "Epoch 5/20\n",
      "375/375 [==============================] - ETA: 0s - loss: 0.3724 - categorical_accuracy: 0.8684\n",
      "Epoch 5: val_loss improved from 0.33458 to 0.30516, saving model to best_vgg16.hdf5\n",
      "375/375 [==============================] - 263s 701ms/step - loss: 0.3724 - categorical_accuracy: 0.8684 - val_loss: 0.3052 - val_categorical_accuracy: 0.8897\n",
      "Epoch 6/20\n",
      "375/375 [==============================] - ETA: 0s - loss: 0.3564 - categorical_accuracy: 0.8757\n",
      "Epoch 6: val_loss did not improve from 0.30516\n",
      "375/375 [==============================] - 263s 700ms/step - loss: 0.3564 - categorical_accuracy: 0.8757 - val_loss: 0.3103 - val_categorical_accuracy: 0.8911\n",
      "Epoch 7/20\n",
      "375/375 [==============================] - ETA: 0s - loss: 0.3462 - categorical_accuracy: 0.8786\n",
      "Epoch 7: val_loss improved from 0.30516 to 0.28281, saving model to best_vgg16.hdf5\n",
      "375/375 [==============================] - 263s 700ms/step - loss: 0.3462 - categorical_accuracy: 0.8786 - val_loss: 0.2828 - val_categorical_accuracy: 0.8992\n",
      "Epoch 8/20\n",
      "375/375 [==============================] - ETA: 0s - loss: 0.3380 - categorical_accuracy: 0.8804\n",
      "Epoch 8: val_loss improved from 0.28281 to 0.28068, saving model to best_vgg16.hdf5\n",
      "375/375 [==============================] - 263s 701ms/step - loss: 0.3380 - categorical_accuracy: 0.8804 - val_loss: 0.2807 - val_categorical_accuracy: 0.8963\n",
      "Epoch 9/20\n",
      "375/375 [==============================] - ETA: 0s - loss: 0.3310 - categorical_accuracy: 0.8844\n",
      "Epoch 9: val_loss improved from 0.28068 to 0.27255, saving model to best_vgg16.hdf5\n",
      "375/375 [==============================] - 262s 699ms/step - loss: 0.3310 - categorical_accuracy: 0.8844 - val_loss: 0.2725 - val_categorical_accuracy: 0.9031\n",
      "Epoch 10/20\n",
      "375/375 [==============================] - ETA: 0s - loss: 0.3224 - categorical_accuracy: 0.8855\n",
      "Epoch 10: val_loss did not improve from 0.27255\n",
      "375/375 [==============================] - 262s 698ms/step - loss: 0.3224 - categorical_accuracy: 0.8855 - val_loss: 0.2846 - val_categorical_accuracy: 0.8990\n",
      "Epoch 11/20\n",
      "375/375 [==============================] - ETA: 0s - loss: 0.3158 - categorical_accuracy: 0.8890\n",
      "Epoch 11: val_loss did not improve from 0.27255\n",
      "375/375 [==============================] - 262s 700ms/step - loss: 0.3158 - categorical_accuracy: 0.8890 - val_loss: 0.2921 - val_categorical_accuracy: 0.8967\n",
      "Epoch 12/20\n",
      "375/375 [==============================] - ETA: 0s - loss: 0.3100 - categorical_accuracy: 0.8903\n",
      "Epoch 12: val_loss did not improve from 0.27255\n",
      "375/375 [==============================] - 263s 700ms/step - loss: 0.3100 - categorical_accuracy: 0.8903 - val_loss: 0.2765 - val_categorical_accuracy: 0.9000\n",
      "Epoch 12: early stopping\n"
     ]
    }
   ],
   "source": [
    "history = model_vgg.fit(\n",
    "    train_dataset,\n",
    "    validation_data=valid_dataset,\n",
    "    epochs=n_epochs,\n",
    "    verbose=1,\n",
    "    callbacks=[callback_early_stopping, callback_save]\n",
    ")"
   ]
  },
  {
   "cell_type": "code",
   "execution_count": 37,
   "id": "12df7433",
   "metadata": {
    "scrolled": false
   },
   "outputs": [
    {
     "name": "stdout",
     "output_type": "stream",
     "text": [
      "10000\n",
      "Час виконання:  80.42437815666199 секунд\n"
     ]
    },
    {
     "data": {
      "text/plain": [
       "(10000, 10)"
      ]
     },
     "execution_count": 37,
     "metadata": {},
     "output_type": "execute_result"
    }
   ],
   "source": [
    "start_time = time.time()\n",
    "best_model_vgg = tf.keras.saving.load_model(\"best_vgg16.hdf5\")\n",
    "test_out = []\n",
    "\n",
    "for x, y in test_dataset:\n",
    "    test_out.extend(best_model_vgg(x).numpy())\n",
    "print(len(test_out))\n",
    "    \n",
    "\n",
    "test_out = np.array(test_out)\n",
    "end_time = time.time()\n",
    "execution_time = end_time - start_time\n",
    "print(\"Час виконання: \", execution_time, \"секунд\")\n",
    "test_out.shape"
   ]
  },
  {
   "cell_type": "code",
   "execution_count": 38,
   "id": "8a463592",
   "metadata": {},
   "outputs": [
    {
     "name": "stdout",
     "output_type": "stream",
     "text": [
      "Accuracy test data: 0.8968\n"
     ]
    }
   ],
   "source": [
    "accuracy_test_vgg = np.mean(test_out.argmax(axis=1) == y_test_vgg)\n",
    "print(f\"Accuracy test data: {accuracy_test_vgg.round(4)}\" )"
   ]
  },
  {
   "cell_type": "markdown",
   "id": "6c184805",
   "metadata": {},
   "source": [
    "# Conclusion\n",
    "\n",
    "Best params flatten NN:\n",
    "1. learning_rate = 0.0005\n",
    "1. n_units = [4000, 80]\n",
    "1. batch_size = 512\n",
    "1. layers = 2\n",
    "1. activate_funcion = \"relu\"\n",
    "1. optimizer = \"AdamW\"\n",
    "1. Dropout = 0.3\n",
    "\n",
    "Final accuracy = 0.8943\n",
    "\n",
    " Best params Convolutional NN:\n",
    "\n",
    "1. batch_size = 512\n",
    "1. activate_funcion = \"relu\"\n",
    "1. optimizer = \"rmsprop\"\n",
    "\n",
    "Final accuracy = 0.9117\n",
    "\n",
    "Best params VGG16:\n",
    "\n",
    "1. Input shape 224x224x3 \n",
    "1. Dense = 512\n",
    "1. activate_funcion = \"relu\"\n",
    "1. optimizer = \"rmsprop\"\n",
    "\n",
    "Final accuracy = 0.8968\n",
    "\n",
    "Conclusion: The best result has custom Convolutional NN, because dataset is grayscale and have small size. Flatten NN not match for this calculation and VGG16 have too many convertation and pre-learn due to universal data, That is why they have worse results."
   ]
  },
  {
   "cell_type": "code",
   "execution_count": null,
   "id": "7f7df74b",
   "metadata": {},
   "outputs": [],
   "source": []
  },
  {
   "cell_type": "code",
   "execution_count": null,
   "id": "711d8128",
   "metadata": {},
   "outputs": [],
   "source": []
  }
 ],
 "metadata": {
  "kernelspec": {
   "display_name": "Python 3 (ipykernel)",
   "language": "python",
   "name": "python3"
  },
  "language_info": {
   "codemirror_mode": {
    "name": "ipython",
    "version": 3
   },
   "file_extension": ".py",
   "mimetype": "text/x-python",
   "name": "python",
   "nbconvert_exporter": "python",
   "pygments_lexer": "ipython3",
   "version": "3.8.10"
  }
 },
 "nbformat": 4,
 "nbformat_minor": 5
}
